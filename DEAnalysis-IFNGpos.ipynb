{
 "cells": [
  {
   "cell_type": "markdown",
   "metadata": {},
   "source": [
    "# Differential expression analysis\n",
    "\n",
    "This workbook performs differential expression analysis at cell type level. \n",
    "It prepares the data for a pseudo-bulk differential expression analysis (part 1) and \n",
    "performs a DE analysis at the single-cell level as well (part2). Pseudobulk DE results will also be computed. The analysis was run on the batch corrected version (per individual) of the workflow. "
   ]
  },
  {
   "cell_type": "code",
   "execution_count": null,
   "metadata": {},
   "outputs": [],
   "source": [
    "import besca as bc\n",
    "import numpy as np\n",
    "import pandas as pd\n",
    "import scanpy as sc\n",
    "import matplotlib.pyplot as plt\n",
    "from scipy import sparse, io\n",
    "import os\n",
    "import time\n",
    "import logging\n",
    "import pkg_resources\n",
    "import seaborn as sns\n",
    "import itertools\n",
    "import sys\n",
    "sc.logging.print_versions()\n",
    "\n",
    "# for standard processing, set verbosity to minimum\n",
    "sc.settings.verbosity = 0  # verbosity: errors (0), warnings (1), info (2), hints (3)\n",
    "sc.settings.set_figure_params(dpi=80)\n",
    "version = '2.4'\n",
    "start0 = time.time()"
   ]
  },
  {
   "cell_type": "code",
   "execution_count": null,
   "metadata": {},
   "outputs": [],
   "source": [
    "### Functions to be added to besca\n",
    "\n",
    "def getMeans(adata, groupval):\n",
    "    ### Obtain average and fraction expression per group\n",
    "    ### Gets adata object and groups specific as input\n",
    "    gene_ids=adata.raw.var.index.values\n",
    "    clusters=adata.obs[groupval].cat.categories\n",
    "    obs=adata.raw[:,gene_ids].X.toarray()\n",
    "    obs=pd.DataFrame(obs,columns=gene_ids,index=adata.obs[groupval])\n",
    "    average_obs=obs.groupby(level=0).mean()\n",
    "    obs_bool=obs.astype(bool)\n",
    "    fraction_obs=obs_bool.groupby(level=0).sum()/obs_bool.groupby(level=0).count()\n",
    "    return(average_obs,fraction_obs)\n",
    "\n",
    "def formatmean(average_obs, fraction_obs, what, mycond, myg):\n",
    "    ### Transforms average and fraction expression to pd for plotting\n",
    "    df=pd.DataFrame([list(average_obs[myg]),list(fraction_obs[myg]),mycond]).transpose()\n",
    "    df.index=average_obs.index\n",
    "    df.columns=[myg+'Avg',myg+'Fract',what]\n",
    "    return(df)\n",
    "    \n",
    "def prepare_df(myg, adata, cond1, cond2, cond3):\n",
    "    myit1=np.sort(list(set(adata.obs[cond1])))\n",
    "    myit2=np.sort(list(set(adata.obs[cond2])))\n",
    "    df=pd.DataFrame()\n",
    "    for i in myit1:\n",
    "        cdata=adata[adata.obs[cond1]==i].copy()\n",
    "        myit3=np.sort(list(set(cdata.obs[cond3])))\n",
    "        for j in myit3:\n",
    "            data=cdata[cdata.obs[cond3]==j].copy()\n",
    "            average_obs,fraction_obs=getMeans(data,cond2)\n",
    "            mylen=len(fraction_obs[myg])\n",
    "            df1=pd.DataFrame(data={'Avg':average_obs[myg],'Fct': fraction_obs[myg],\n",
    "                                   cond1: [i]*mylen,cond3: [j]*mylen,\n",
    "                                   cond2: fraction_obs[myg].index})\n",
    "            df=pd.concat([df,df1],ignore_index=True)\n",
    "    return df"
   ]
  },
  {
   "cell_type": "code",
   "execution_count": null,
   "metadata": {},
   "outputs": [],
   "source": [
    "#define standardized filepaths based on above input\n",
    "root_path = os.getcwd()\n",
    "bescapath_full = os.path.dirname(bc.__file__)\n",
    "bescapath = os.path.split(bescapath_full)[0]\n",
    "\n",
    "analysis_name = 'sw_besca2'\n",
    "species='human' ## or mouse for now\n",
    "\n",
    "results_folder = os.path.join(root_path, 'analyzed/',analysis_name)\n",
    "results_file = os.path.join(results_folder, analysis_name + '.annotated.h5ad')\n",
    "results_file_raw = os.path.join(results_folder, analysis_name + '.raw.h5ad')\n",
    "results_folder_out = results_folder+ '/DE/sc_wilcoxon/'\n",
    "results_folder_pseudo = results_folder+ '/DE/Pseudobulk/'\n",
    "\n",
    "clusters='leiden'\n",
    "split_condition='readout_id' #'experiment' is generally a good default ### change to sampleID\n",
    "exportPseudobulk=False\n",
    "exportPseudobulkRaw=False\n",
    "correctCellNrs=True"
   ]
  },
  {
   "cell_type": "code",
   "execution_count": null,
   "metadata": {},
   "outputs": [],
   "source": [
    "adata = sc.read_h5ad(results_file)\n",
    "adata\n"
   ]
  },
  {
   "cell_type": "code",
   "execution_count": null,
   "metadata": {},
   "outputs": [],
   "source": [
    "origdata=adata.copy()"
   ]
  },
  {
   "cell_type": "markdown",
   "metadata": {},
   "source": [
    "### Output for pseudobulk DE analysis"
   ]
  },
  {
   "cell_type": "markdown",
   "metadata": {},
   "source": [
    "Iterate over all experiments in split_condition (individual_id in this case) and sum norm counts to pd.Dataframe. Note that this can be done at different levels - over all cells or over specific cell types or clusters. "
   ]
  },
  {
   "cell_type": "markdown",
   "metadata": {},
   "source": [
    "#### Save for pseudobulk DE analysis separate on the individual cell types at distinct levels"
   ]
  },
  {
   "cell_type": "markdown",
   "metadata": {},
   "source": [
    "Manual selection of cell groups or select all members at a certain annotation level"
   ]
  },
  {
   "cell_type": "code",
   "execution_count": null,
   "metadata": {},
   "outputs": [],
   "source": [
    "set(adata.obs['celltype1'])"
   ]
  },
  {
   "cell_type": "code",
   "execution_count": null,
   "metadata": {},
   "outputs": [],
   "source": [
    "#adata=adata[adata.obs['CONDITION']!='T_24_Tumor_C_24_Tumor'].copy() \n",
    "#adata=adata[adata.obs['celltype1'].isin(['T cell'])].copy()\n",
    "#initialsubset='Tcells'\n",
    "initialsubset='All'\n",
    "fullsubset='All'"
   ]
  },
  {
   "cell_type": "code",
   "execution_count": null,
   "metadata": {},
   "outputs": [],
   "source": [
    "#adata.obs['celltypevar']=adata.obs['dblabel'].copy()\n",
    "#adata.obs['celltypevar']=list(adata.obs['celltypevar'].replace('BMP7-positive effector CD8-positive, alpha-beta T cell', 'mature CD8-positive, alpha-beta T cell'))\n",
    "#adata.obs['celltypevar']=list(adata.obs['celltypevar'].replace('granulocyte', 'monocyte or granulocyte'))"
   ]
  },
  {
   "cell_type": "code",
   "execution_count": null,
   "metadata": {},
   "outputs": [],
   "source": [
    "results_folder+'/DE/Pseudobulk/'"
   ]
  },
  {
   "cell_type": "code",
   "execution_count": null,
   "metadata": {},
   "outputs": [],
   "source": [
    "len(list(adata.obs.columns))"
   ]
  },
  {
   "cell_type": "code",
   "execution_count": null,
   "metadata": {},
   "outputs": [],
   "source": [
    "#'percent_mito', 'n_counts', 'n_genes', \n",
    "todrop=['CELL', 'input.path', \n",
    "        'leiden', 'celltype0', 'celltype1', 'celltype2', \n",
    "        'celltype3', 'dblabel']+list(adata.obs.columns[17:189])\n"
   ]
  },
  {
   "cell_type": "code",
   "execution_count": null,
   "metadata": {},
   "outputs": [],
   "source": [
    "#'percent_mito', 'n_counts', 'n_genes', \n",
    "todrop=['CELL', 'input.path', \n",
    "        'leiden', 'celltype0', 'celltype1', 'celltype2', \n",
    "        'celltype3','celltype1_co', 'celltype2_co', 'celltype3_co',\n",
    "        'celltype','celltypevar', 'dblabel']+list(adata.obs.columns[17:187])\n",
    "exportPseudobulk=False\n",
    "if (exportPseudobulk==True):\n",
    "    pseudulk_celltype2=bc.export.pseudobulk(adata, outpath = results_folder_pseudo,\n",
    "             column = 'celltype2',label  = 'celltype2',\n",
    "             split_condition  = split_condition,todrop=todrop)\n",
    "    pseudulk_celltype2=bc.export.pseudobulk(adata, outpath = results_folder_pseudo,\n",
    "             column = 'celltype2_co',label  = 'celltype2_co',\n",
    "             split_condition  = split_condition,todrop=todrop)\n",
    "    pseudulk_celltype2=bc.export.pseudobulk(adata, outpath = results_folder_pseudo,\n",
    "             column = 'celltype1',label  = 'celltype1',\n",
    "             split_condition  = split_condition,todrop=todrop)\n",
    "    pseudulk_celltype2=bc.export.pseudobulk(adata, outpath = results_folder_pseudo,\n",
    "             column = 'celltype1_co',label  = 'celltype1_co',\n",
    "             split_condition  = split_condition,todrop=todrop)\n",
    "    \n",
    "    pseudulk_celltype=bc.export.pseudobulk(adata, outpath = results_folder_pseudo,\n",
    "             column = 'dblabel',label  = 'dblabel',\n",
    "             split_condition  = split_condition,todrop=todrop)\n"
   ]
  },
  {
   "cell_type": "code",
   "execution_count": null,
   "metadata": {},
   "outputs": [],
   "source": [
    "import sys"
   ]
  },
  {
   "cell_type": "code",
   "execution_count": null,
   "metadata": {},
   "outputs": [],
   "source": [
    "condition='CONDITION'\n",
    "if (exportPseudobulk==True):\n",
    "    #for tocount in ['celltype1','celltype2','celltype3', 'celltype', 'celltypevar','celltypevar2','celltypevar3','leiden']:\n",
    "    for tocount in ['celltype2_co','celltype1_co','celltype2','celltype1','dblabel']:\n",
    "        ### Or get the numbers\n",
    "        df=bc.tl.count_occurrence_subset_conditions(adata, count_variable = tocount, \n",
    "                        subset_variable =split_condition, condition_identifier = condition,  \n",
    "                                                    return_percentage = False)\n",
    "        df.columns=[x.split(' ')[1] for x in list(df.columns)]\n",
    "        #myresults_folder_out='/pstore/data/biomics/ONC/70206_FAP_CD40/scSEQ_invivo/Tumor/analyzed/sw_besca24_hvgsample/DE/'\n",
    "        df.to_csv(results_folder_pseudo+'CellCounts-'+tocount+'.tsv', sep='\\t')\n"
   ]
  },
  {
   "cell_type": "code",
   "execution_count": null,
   "metadata": {},
   "outputs": [],
   "source": [
    "#adata=adata[adata.obs['CONDITION']!='T_24_Tumor_C_24_Tumor'].copy() \n",
    "adata=adata[adata.obs['IFNGresp'].isin(['IFNGpos'])].copy()\n",
    "#initialsubset='Tcells'\n",
    "initialsubset='IFNGpos'\n",
    "fullsubset='IFNGpos'"
   ]
  },
  {
   "cell_type": "code",
   "execution_count": null,
   "metadata": {},
   "outputs": [],
   "source": [
    "cellorder=[\n",
    "     'hematopoietic multipotent progenitor cell',\n",
    "    'plasmacytoid dendritic cell',\n",
    "    'naive B cell',\n",
    " 'memory B cell',\n",
    " 'plasma cell',\n",
    "    'B myeloid cell doublet',\n",
    "     'classical monocyte',\n",
    "        'inflammatory monocyte',\n",
    "  'monocyte',\n",
    "     'non-classical monocyte',\n",
    " 'CD1c-positive myeloid dendritic cell',\n",
    "     'granulocyte',\n",
    " 'CD56-bright cytokine secreting natural killer cell',\n",
    "    \n",
    "'cytotoxic CD56-dim natural killer cell',\n",
    " 'CD8-positive, alpha-beta cytotoxic T cell',\n",
    "     'effector memory CD8-positive, alpha-beta T cell',\n",
    "    'gamma delta T cell',\n",
    " 'mucosal invariant T cell',\n",
    " 'naive thymus-derived CD8-positive, alpha-beta T cell',\n",
    "    'naive thymus-derived CD4-positive, alpha-beta T cell',\n",
    " 'central memory CD4-positive, alpha-beta T cell',\n",
    "     'regulatory T cell',\n",
    " 'proliferating T cell']"
   ]
  },
  {
   "cell_type": "markdown",
   "metadata": {},
   "source": [
    "### Plot genes of interest"
   ]
  },
  {
   "cell_type": "code",
   "execution_count": null,
   "metadata": {},
   "outputs": [],
   "source": [
    "#goi=[MCP-1, MIP-1a,  MIP-1b,  IL-8, IP-10, IL-1b, TNF-a, IFNg, IL-6, IL-2 and IL-10]\n",
    "goi=['CCL2','CCL3','CCL4','CXCL8', 'CXCL10', 'IL1B','TNF', 'IFNG','IL6','IL2','IL10']\n",
    "goiorder=['CXCL9', 'CXCL10', 'CXCL11','CCL7', 'CCL8','IL6','IL27','IL1RN','IL15','CCL2','SPP1','IL1R1',\n",
    " 'CCL3','CCL4','CXCL8','IL6R','IL1B','TNF','IL10', 'IFNG', 'IL2','TNFSF13B', 'TNFSF10','CCL5','GZMK','GZMB','FASLG','IGHG1','IGKC']\n",
    "goi=goiorder\n",
    "goi=[x.upper() for x in goi]\n",
    "sc.pl.dotplot(adata,var_names=goi,groupby='dblabel', categories_order=cellorder)"
   ]
  },
  {
   "cell_type": "code",
   "execution_count": null,
   "metadata": {},
   "outputs": [],
   "source": [
    "sc.pl.dotplot(adata[adata.obs['compound_name']=='AAV8'],var_names=goi,groupby='dblabel', \n",
    "              dot_max=0.6, vmax=2, categories_order=cellorder)"
   ]
  },
  {
   "cell_type": "code",
   "execution_count": null,
   "metadata": {},
   "outputs": [],
   "source": [
    "sc.pl.dotplot(adata[adata.obs['compound_name']=='Control'],var_names=goi,groupby='dblabel', \n",
    "              dot_max=0.6, vmax=2, categories_order=cellorder)"
   ]
  },
  {
   "cell_type": "code",
   "execution_count": null,
   "metadata": {},
   "outputs": [],
   "source": [
    "adata.uns['log1p'] = {'base' : None} # Fix for bug related to scanpy version scverse/scanpy#2239"
   ]
  },
  {
   "cell_type": "code",
   "execution_count": null,
   "metadata": {},
   "outputs": [],
   "source": [
    "set(adata.obs['CONDITION'])"
   ]
  },
  {
   "cell_type": "code",
   "execution_count": null,
   "metadata": {},
   "outputs": [],
   "source": [
    "set(adata.obs['celltype2'])"
   ]
  },
  {
   "cell_type": "code",
   "execution_count": null,
   "metadata": {},
   "outputs": [],
   "source": [
    "plt.rcParams[\"figure.figsize\"] = (6,3)\n",
    "sc.pl.violin(adata[adata.obs['celltype2'].isin(['CD8-positive, alpha-beta T cell'])],keys=['GZMA'],groupby='CONDITION', rotation=90)"
   ]
  },
  {
   "cell_type": "markdown",
   "metadata": {},
   "source": [
    "## Differential expression analysis (at invididual cell level)"
   ]
  },
  {
   "cell_type": "code",
   "execution_count": null,
   "metadata": {},
   "outputs": [],
   "source": [
    "condition='CONDITION'\n"
   ]
  },
  {
   "cell_type": "code",
   "execution_count": null,
   "metadata": {},
   "outputs": [],
   "source": [
    "set(adata.obs['celltype2'])"
   ]
  },
  {
   "cell_type": "markdown",
   "metadata": {},
   "source": [
    "### Changes in specific cells at specific times"
   ]
  },
  {
   "cell_type": "code",
   "execution_count": null,
   "metadata": {},
   "outputs": [],
   "source": [
    "#results_folder_out = os.path.join(root_path, 'analyzed', analysis_name+'/DE/sc_wilcoxon/')\n",
    "#results_folder_out = os.path.join(root_path, 'analyzed', analysis_name+'/DE/sc_wilcoxon/48h/')"
   ]
  },
  {
   "cell_type": "code",
   "execution_count": null,
   "metadata": {},
   "outputs": [],
   "source": [
    "#set(adata.obs[''])celltype1"
   ]
  },
  {
   "cell_type": "code",
   "execution_count": null,
   "metadata": {},
   "outputs": [],
   "source": [
    "##mysubset='target cell'\n",
    "mysubset='natural killer cell'\n",
    "mysubset='myeloid dendritic cell'\n",
    "#mysubset='monocyte'\n",
    "#mysubset='T cell'\n",
    "mylevel=\"celltype2_co\"\n",
    "cdata=adata[adata.obs[mylevel]==mysubset].copy()\n",
    "#cdata=adata[adata.obs[mylevel].isin(['inflammatory monocyte','granulocyte'])].copy()\n",
    "#cdata=adata[adata.obs[mylevel].isin(['lymphocyte of B lineage','myeloid leukocyte'])].copy() #'CD141-positive myeloid dendritic cell'\n",
    "cdataorig=origdata[origdata.obs[mylevel]==mysubset].copy()\n",
    "\n",
    "#mysubset='Monocyte'\n",
    "#mysubset='NKcell'\n",
    "mysubset='cDC'"
   ]
  },
  {
   "cell_type": "code",
   "execution_count": null,
   "metadata": {},
   "outputs": [],
   "source": []
  },
  {
   "cell_type": "code",
   "execution_count": null,
   "metadata": {},
   "outputs": [],
   "source": [
    "condition='CONDITION'"
   ]
  },
  {
   "cell_type": "code",
   "execution_count": null,
   "metadata": {},
   "outputs": [],
   "source": [
    "results_out_cell=results_folder_out+'/'+mysubset.replace(\" \", \"_\")+'/'\n",
    "if not os.path.exists(results_out_cell): os.mkdir(results_out_cell)\n",
    "if not os.path.exists(results_out_cell+'enrichr/'): os.mkdir(results_out_cell+'enrichr/')"
   ]
  },
  {
   "cell_type": "code",
   "execution_count": null,
   "metadata": {},
   "outputs": [],
   "source": [
    "split_condition"
   ]
  },
  {
   "cell_type": "code",
   "execution_count": null,
   "metadata": {},
   "outputs": [],
   "source": [
    "condition"
   ]
  },
  {
   "cell_type": "code",
   "execution_count": null,
   "metadata": {},
   "outputs": [],
   "source": [
    "mylevel"
   ]
  },
  {
   "cell_type": "code",
   "execution_count": null,
   "metadata": {},
   "outputs": [],
   "source": [
    "cdata.obs"
   ]
  },
  {
   "cell_type": "code",
   "execution_count": null,
   "metadata": {},
   "outputs": [],
   "source": [
    "### Explore the nr. cells per donor - avoid large donor-specific biases\n",
    "cellnrs=bc.tl.count_occurrence_subset_conditions(cdata, subset_variable = 'sample_id', \n",
    "                                                 count_variable = mylevel, condition_identifier = condition,  return_percentage = False)\n"
   ]
  },
  {
   "cell_type": "code",
   "execution_count": null,
   "metadata": {},
   "outputs": [],
   "source": [
    "plt.rcParams[\"figure.figsize\"] = (12,3)\n",
    "ax=cellnrs.transpose().plot.bar()\n",
    "ax.set_ylabel(\"Nr. cells per sample\")"
   ]
  },
  {
   "cell_type": "code",
   "execution_count": null,
   "metadata": {},
   "outputs": [],
   "source": [
    "### Explore the nr. cells per donor - avoid large donor-specific biases\n",
    "cellnrs=bc.tl.count_occurrence_subset_conditions(cdata, subset_variable = split_condition, \n",
    "                                                 count_variable = mylevel, condition_identifier = condition,  return_percentage = False)\n"
   ]
  },
  {
   "cell_type": "code",
   "execution_count": null,
   "metadata": {},
   "outputs": [],
   "source": [
    "plt.rcParams[\"figure.figsize\"] = (12,3)\n",
    "ax=cellnrs.transpose().plot.bar()\n",
    "ax.set_ylabel(\"Nr. cells per sample\")"
   ]
  },
  {
   "cell_type": "code",
   "execution_count": null,
   "metadata": {},
   "outputs": [],
   "source": [
    "cellnrs"
   ]
  },
  {
   "cell_type": "code",
   "execution_count": null,
   "metadata": {},
   "outputs": [],
   "source": [
    "correctCellNrs"
   ]
  },
  {
   "cell_type": "code",
   "execution_count": null,
   "metadata": {},
   "outputs": [],
   "source": [
    "#### Subsample to account for distinct cell nrs. per patient\n",
    "if correctCellNrs==True:\n",
    "    myindex=[]\n",
    "    mylen=[]\n",
    "    myp=list(cdata.obs[split_condition].cat.categories)\n",
    "    for i in myp:\n",
    "        temp=cdata[cdata.obs[split_condition]==i].copy()\n",
    "        mylen.append(len(temp))\n",
    "        sc.pp.subsample(temp,n_obs=int(np.min([len(temp.obs),cellnrs.transpose().mean()[0]])))\n",
    "        myindex.append(temp.obs.index.values)\n",
    "\n",
    "    flatten=lambda l: [item for myindex in l for item in myindex]\n",
    "    cdata=cdata[flatten(myindex)].copy()"
   ]
  },
  {
   "cell_type": "code",
   "execution_count": null,
   "metadata": {},
   "outputs": [],
   "source": [
    "### Explore the nr. cells per donor - avoid large donor-specific biases\n",
    "cellnrs=bc.tl.count_occurrence_subset_conditions(cdata, subset_variable = split_condition, \n",
    "                                                 count_variable = mylevel, condition_identifier = condition,  return_percentage = False)\n",
    "\n",
    "plt.rcParams[\"figure.figsize\"] = (12,3)\n",
    "ax=cellnrs.transpose().plot.bar()\n",
    "ax.set_ylabel(\"Nr. cells per sample\")"
   ]
  },
  {
   "cell_type": "markdown",
   "metadata": {},
   "source": [
    "#### Plot genes of interest"
   ]
  },
  {
   "cell_type": "code",
   "execution_count": null,
   "metadata": {},
   "outputs": [],
   "source": [
    "mypval=0.05\n",
    "myfc=np.log2(1.5)"
   ]
  },
  {
   "cell_type": "code",
   "execution_count": null,
   "metadata": {},
   "outputs": [],
   "source": [
    "condition"
   ]
  },
  {
   "cell_type": "code",
   "execution_count": null,
   "metadata": {},
   "outputs": [],
   "source": [
    "conds=list(cdata.obs[condition].cat.categories)"
   ]
  },
  {
   "cell_type": "code",
   "execution_count": null,
   "metadata": {},
   "outputs": [],
   "source": [
    "conds"
   ]
  },
  {
   "cell_type": "code",
   "execution_count": null,
   "metadata": {},
   "outputs": [],
   "source": [
    "### Perform DE cells of each celltype3 vs. all other cells\n",
    "DEgenes=bc.tl.dge.get_de(cdata,condition,demethod='wilcoxon',topnr=5000, logfc=myfc,padj=mypval)\n"
   ]
  },
  {
   "cell_type": "code",
   "execution_count": null,
   "metadata": {},
   "outputs": [],
   "source": []
  },
  {
   "cell_type": "code",
   "execution_count": null,
   "metadata": {},
   "outputs": [],
   "source": [
    "### Could also check pairwise comparisons if needed\n",
    "AllComparisons=list(itertools.combinations(conds,2))"
   ]
  },
  {
   "cell_type": "code",
   "execution_count": null,
   "metadata": {},
   "outputs": [],
   "source": [
    "AllComparisons"
   ]
  },
  {
   "cell_type": "code",
   "execution_count": null,
   "metadata": {},
   "outputs": [],
   "source": [
    "#mypairs=[AllComparisons[1],AllComparisons[3],AllComparisons[6],AllComparisons[8],AllComparisons[9]]\n",
    "#mypairs=AllComparisons\n",
    "#mypairs=[AllComparisons[0],AllComparisons[1],AllComparisons[3],\n",
    "#         AllComparisons[6],AllComparisons[9],AllComparisons[14],AllComparisons[15],AllComparisons[16],AllComparisons[17]]\n",
    "\n",
    "mypairs=[AllComparisons[3],\n",
    "         AllComparisons[6],AllComparisons[9],AllComparisons[14],AllComparisons[16],AllComparisons[20]]"
   ]
  },
  {
   "cell_type": "code",
   "execution_count": null,
   "metadata": {},
   "outputs": [],
   "source": [
    "mypairs"
   ]
  },
  {
   "cell_type": "code",
   "execution_count": null,
   "metadata": {},
   "outputs": [],
   "source": [
    "mypairs=[('AAV8_1h', 'Control_1h'),\n",
    " ('AAV8_4h', 'Control_4h'),\n",
    " ('AAV8_24h', 'Control_24h'),\n",
    " ('AAV8_4h', 'AAV8_24h'),\n",
    "('Control_4h', 'Control_24h'),\n",
    " ('Control', 'Control_4h')]"
   ]
  },
  {
   "cell_type": "code",
   "execution_count": null,
   "metadata": {},
   "outputs": [],
   "source": [
    "DElist={}\n",
    "for i in mypairs:\n",
    "    DElist[i[0]+'-'+i[1]]=bc.tl.dge.get_de(cdata[cdata.obs[condition].isin(i)],condition,demethod='wilcoxon',topnr=5000, logfc=myfc,padj=mypval)\n"
   ]
  },
  {
   "cell_type": "code",
   "execution_count": null,
   "metadata": {},
   "outputs": [],
   "source": [
    "DElist.keys() #['TLR7ago_antiPDL1_antiVEGF-veh_antiPDL1_antiVEGF']"
   ]
  },
  {
   "cell_type": "code",
   "execution_count": null,
   "metadata": {},
   "outputs": [],
   "source": [
    "DElist.keys()"
   ]
  },
  {
   "cell_type": "code",
   "execution_count": null,
   "metadata": {},
   "outputs": [],
   "source": [
    "mypvalstr=str(mypval).replace('.','')[1:3]\n",
    "myfcstr=str(myfc).replace('.','')[0:2]"
   ]
  },
  {
   "cell_type": "code",
   "execution_count": null,
   "metadata": {},
   "outputs": [],
   "source": [
    "denrs={}\n",
    "for i in mypairs:\n",
    "    print(i[0]+' vs. '+i[1])\n",
    "    print('DE.1')\n",
    "    print(DElist[i[0]+'-'+i[1]][i[0]].sort_values('Log2FC', ascending=False).iloc[0:20,:])\n",
    "    print('GOIs:')\n",
    "    print(list(set(DElist[i[0]+'-'+i[1]][i[0]]['Name']).intersection(set(goiorder))))\n",
    "    print('DE.2')\n",
    "    print(DElist[i[0]+'-'+i[1]][i[1]].sort_values('Log2FC', ascending=False).iloc[0:20,:])\n",
    "    print('GOIs:')\n",
    "    print(list(set(DElist[i[0]+'-'+i[1]][i[1]]['Name']).intersection(set(goiorder))))\n",
    "    denrs[i[0]+'-'+i[1]]=[len(DElist[i[0]+'-'+i[1]][i[0]].index),len(DElist[i[0]+'-'+i[1]][i[1]].index)]\n",
    "    DElist[i[0]+'-'+i[1]][i[0]].to_csv(results_out_cell+'DE-wilcoxon-logFC'+myfcstr+'-padj'+mypvalstr+'-UP-'+mylevel+'-'+mysubset.replace(\" \", \"_\")+'-pairwise-'+i[0]+'-'+i[1]+'.1.csv')\n",
    "    DElist[i[0]+'-'+i[1]][i[1]].to_csv(results_out_cell+'DE-wilcoxon-logFC'+myfcstr+'-padj'+mypvalstr+'-UP-'+mylevel+'-'+mysubset.replace(\" \", \"_\")+'-pairwise-'+i[0]+'-'+i[1]+'.2.csv')\n",
    "denrs=pd.DataFrame(denrs)\n",
    "denrs.index=['DE1','DE2']"
   ]
  },
  {
   "cell_type": "code",
   "execution_count": null,
   "metadata": {},
   "outputs": [],
   "source": [
    "plt.rcParams[\"figure.figsize\"] = (4,4)\n",
    "ax=denrs.transpose().plot.bar()\n",
    "ax.set_ylabel(\"Nr. pairwise DE genes\")"
   ]
  },
  {
   "cell_type": "code",
   "execution_count": null,
   "metadata": {},
   "outputs": [],
   "source": [
    "for i in conds:\n",
    "    DEgenes[i].to_csv(results_out_cell+'DE-wilcoxon-logFC'+myfcstr+'-padj'+mypvalstr+'-UP-'+mylevel+'-'+mysubset.replace(\" \", \"_\")+'-'+i+'.csv')"
   ]
  },
  {
   "cell_type": "code",
   "execution_count": null,
   "metadata": {},
   "outputs": [],
   "source": [
    "DEgenes.keys()"
   ]
  },
  {
   "cell_type": "code",
   "execution_count": null,
   "metadata": {},
   "outputs": [],
   "source": [
    "set(cdata.obs['sample_id'])"
   ]
  },
  {
   "cell_type": "code",
   "execution_count": null,
   "metadata": {},
   "outputs": [],
   "source": [
    "korder=['D1_Predose','D2_Predose','D3_Predose','D4_Predose','D5_Predose','D6_Predose','D1_1h_ctrl','D2_1h_ctrl',\n",
    "        'D1_4h_ctrl','D2_4h_ctrl','D3_4h_ctrl','D4_4h_ctrl','D5_4h_ctrl','D6_4h_ctrl',\n",
    "       'D1_24h_ctrl','D2_24h_ctrl','D3_24h_ctrl','D4_24h_ctrl','D5_24h_ctrl','D6_24h_ctrl',\n",
    "        'D1_1h_AAV8','D2_1h_AAV8','D1_4h_AAV8','D2_4h_AAV8','D3_4h_AAV8','D4_4h_AAV8','D5_4h_AAV8','D6_4h_AAV8',\n",
    "       'D1_24h_AAV8','D2_24h_AAV8','D3_24h_AAV8','D4_24h_AAV8','D5_24h_AAV8','D6_24h_AAV8',]"
   ]
  },
  {
   "cell_type": "code",
   "execution_count": null,
   "metadata": {},
   "outputs": [],
   "source": [
    "adata.obs['sample_id']"
   ]
  },
  {
   "cell_type": "code",
   "execution_count": null,
   "metadata": {},
   "outputs": [],
   "source": [
    "sc.pl.matrixplot(cdataorig,list(DEgenes['AAV8_1h'].sort_values('Log2FC',ascending=False).iloc[0:60,]['Name']), \n",
    "                 groupby='sample_id', standard_scale='var',\n",
    "                 categories_order=korder)"
   ]
  },
  {
   "cell_type": "code",
   "execution_count": null,
   "metadata": {},
   "outputs": [],
   "source": [
    "sc.pl.matrixplot(cdataorig,list(DEgenes['AAV8_4h'].sort_values('Log2FC',ascending=False).iloc[0:60,]['Name']), \n",
    "                 groupby='sample_id', standard_scale='var',categories_order=korder)"
   ]
  },
  {
   "cell_type": "code",
   "execution_count": null,
   "metadata": {},
   "outputs": [],
   "source": [
    "latei=list(DEgenes['AAV8_24h'].sort_values('Log2FC',ascending=False).iloc[0:20,]['Name'])"
   ]
  },
  {
   "cell_type": "code",
   "execution_count": null,
   "metadata": {},
   "outputs": [],
   "source": [
    "sc.pl.dotplot(cdataorig[cdataorig.obs['compound_name']=='AAV8'],var_names=latei,groupby='dblabel', \n",
    "              dot_max=0.6, vmax=2)\n",
    "\n",
    "sc.pl.dotplot(cdataorig[cdataorig.obs['compound_name']=='Control'],var_names=latei,groupby='dblabel', \n",
    "              dot_max=0.6, vmax=2)"
   ]
  },
  {
   "cell_type": "code",
   "execution_count": null,
   "metadata": {},
   "outputs": [],
   "source": [
    "sc.pl.matrixplot(cdataorig,list(DEgenes['AAV8_24h'].sort_values('Log2FC',ascending=False).iloc[0:60,]['Name']), \n",
    "                 groupby='sample_id', standard_scale='var',categories_order=korder)"
   ]
  },
  {
   "cell_type": "code",
   "execution_count": null,
   "metadata": {},
   "outputs": [],
   "source": [
    "for key in DEgenes.keys():\n",
    "    print(key)\n",
    "    sc.pl.matrixplot(cdataorig,list(DEgenes[key].sort_values('Log2FC',ascending=False).iloc[0:60,]['Name']),\n",
    "                 groupby='sample_id', standard_scale='var',dendrogram=False, \n",
    "                 save=\"TopDE_\"+key+\"_\"+mysubset.replace(\" \", \"_\")+\".pdf\")"
   ]
  },
  {
   "cell_type": "code",
   "execution_count": null,
   "metadata": {},
   "outputs": [],
   "source": [
    "denrsall={}\n",
    "plotlist=[]\n",
    "plotlist_small=[]\n",
    "upsets={}\n",
    "for i in conds:\n",
    "    print(i)\n",
    "    print(DEgenes[i].sort_values('Log2FC',ascending=False).iloc[0:15,:])\n",
    "    denrsall[i]=len(DEgenes[i].index)\n",
    "    plotlist=plotlist+list(DEgenes[i].sort_values('Log2FC',ascending=False).iloc[0:20,0])\n",
    "    plotlist_small=plotlist_small+list(DEgenes[i].sort_values('Log2FC',ascending=False).iloc[0:5,0])\n",
    "    upsets[i]=list(DEgenes[i]['Name'])\n",
    "denrsall=pd.Series(denrsall)"
   ]
  },
  {
   "cell_type": "code",
   "execution_count": null,
   "metadata": {},
   "outputs": [],
   "source": [
    "plt.rcParams[\"figure.figsize\"] = (6,4)\n",
    "ax=denrsall.plot.bar()\n",
    "ax.set_ylabel(\"Nr. one-vs-others DE genes\")"
   ]
  },
  {
   "cell_type": "code",
   "execution_count": null,
   "metadata": {},
   "outputs": [],
   "source": [
    "tops=plotlist\n",
    "tops=list(dict.fromkeys(tops))"
   ]
  },
  {
   "cell_type": "code",
   "execution_count": null,
   "metadata": {},
   "outputs": [],
   "source": [
    "tops"
   ]
  },
  {
   "cell_type": "code",
   "execution_count": null,
   "metadata": {},
   "outputs": [],
   "source": [
    "\n",
    "sc.pl.dotplot(cdataorig, var_names=tops,groupby=condition)"
   ]
  },
  {
   "cell_type": "code",
   "execution_count": null,
   "metadata": {},
   "outputs": [],
   "source": [
    "sc.pl.heatmap(cdataorig, tops, groupby=condition, \n",
    "              swap_axes=True,standard_scale='var',dendrogram=True, cmap='viridis') #vmin=-3, vmax=3,"
   ]
  },
  {
   "cell_type": "code",
   "execution_count": null,
   "metadata": {},
   "outputs": [],
   "source": [
    "sc.pl.matrixplot(cdataorig,tops, groupby='sample_id', standard_scale='var',categories_order=korder)"
   ]
  },
  {
   "cell_type": "markdown",
   "metadata": {},
   "source": []
  },
  {
   "cell_type": "code",
   "execution_count": null,
   "metadata": {},
   "outputs": [],
   "source": [
    "#goi=['Cd274','Tlr7','Cd40','Isg15','Mx1','Oas3','Ifi44','Irf7','H2-Q6','Etv6','Ly6a','Psmb9','Lamp1','Ccl5','Atp1b1','Siglech','Ccr5']\n",
    "\n",
    "#goi=['Cd274','Tlr7','Cd40','Ccr7','Isg15','Mx1','Oas3','Oas1g','Ifi44','Irf7','H2-Q6','Rsad2','Ifi44','Ifit2', 'Ifng']\n",
    "\n",
    "sc.pl.heatmap(cdataorig, goiorder, groupby=condition, swap_axes=True,standard_scale='var',figsize=[12,6],dendrogram=True, cmap='viridis') #vmin=-3, vmax=3,"
   ]
  },
  {
   "cell_type": "code",
   "execution_count": null,
   "metadata": {},
   "outputs": [],
   "source": [
    "sc.pl.matrixplot(cdataorig,goiorder, groupby='sample_id', standard_scale='var',categories_order=korder)"
   ]
  },
  {
   "cell_type": "code",
   "execution_count": null,
   "metadata": {},
   "outputs": [],
   "source": [
    "sc.pl.dotplot(cdataorig,goiorder, groupby='sample_id',categories_order=korder)"
   ]
  },
  {
   "cell_type": "code",
   "execution_count": null,
   "metadata": {},
   "outputs": [],
   "source": [
    "sc.pl.matrixplot(cdataorig,goiorder, groupby='CONDITION', standard_scale='var',dendrogram=False)"
   ]
  },
  {
   "cell_type": "code",
   "execution_count": null,
   "metadata": {},
   "outputs": [],
   "source": [
    "sc.pl.dotplot(cdataorig,goiorder, groupby='CONDITION', dendrogram=False, dot_max=0.6, vmax=1.5)"
   ]
  },
  {
   "cell_type": "code",
   "execution_count": null,
   "metadata": {},
   "outputs": [],
   "source": [
    "plotlist_small=list(dict.fromkeys(plotlist_small))"
   ]
  },
  {
   "cell_type": "code",
   "execution_count": null,
   "metadata": {},
   "outputs": [],
   "source": [
    "sc.pl.heatmap(cdataorig, plotlist_small, groupby=condition, swap_axes=True,standard_scale='var',figsize=[18,10],dendrogram=True) #vmin=-3, vmax=3,"
   ]
  },
  {
   "cell_type": "markdown",
   "metadata": {},
   "source": [
    "#### Top DEs for condition 1"
   ]
  },
  {
   "cell_type": "code",
   "execution_count": null,
   "metadata": {},
   "outputs": [],
   "source": [
    "for i in conds[1:len(conds)]: \n",
    "    print(i)\n",
    "    fig = plt.figure(figsize=(12,5))\n",
    "    bc.pl.gene_expr_split(cdata[cdata.obs[condition].isin([conds[0],i])], genes = list(DEgenes[conds[0]]['Name'][0:40]), split_variable=condition) "
   ]
  },
  {
   "cell_type": "markdown",
   "metadata": {},
   "source": [
    "#### Top DE for condition 2"
   ]
  },
  {
   "cell_type": "code",
   "execution_count": null,
   "metadata": {},
   "outputs": [],
   "source": [
    "for i in [conds[0]]+conds[2:len(conds)]: \n",
    "    print(i)\n",
    "    fig = plt.figure(figsize=(12,5))\n",
    "    bc.pl.gene_expr_split(cdata[cdata.obs[condition].isin([conds[1],i])], genes = list(DEgenes[conds[1]]['Name'][0:40]), split_variable=condition) "
   ]
  },
  {
   "cell_type": "markdown",
   "metadata": {},
   "source": [
    "### Intersect pairwise results with full results\n",
    "\n"
   ]
  },
  {
   "cell_type": "code",
   "execution_count": null,
   "metadata": {},
   "outputs": [],
   "source": [
    "denrsboth={}\n",
    "for i in mypairs:\n",
    "    print(i[0]+' vs. '+i[1])\n",
    "    DElist[i[0]+'-'+i[1]][i[0]].index=DElist[i[0]+'-'+i[1]][i[0]]['Name']\n",
    "    DElist[i[0]+'-'+i[1]][i[1]].index=DElist[i[0]+'-'+i[1]][i[1]]['Name']\n",
    "    bothDE1=DElist[i[0]+'-'+i[1]][i[0]].loc[list(set(DElist[i[0]+'-'+i[1]][i[0]]['Name']).intersection(set(DEgenes[i[0]]['Name']))),:]\n",
    "    bothDE2=DElist[i[0]+'-'+i[1]][i[1]].loc[list(set(DElist[i[0]+'-'+i[1]][i[1]]['Name']).intersection(set(DEgenes[i[1]]['Name']))),:]\n",
    "    print('DE.1')\n",
    "    print(bothDE1.sort_values('Log2FC',ascending=False).iloc[0:20,:])\n",
    "    print('DE.2')\n",
    "    print(bothDE2.sort_values('Log2FC',ascending=False).iloc[0:20,:])\n",
    "    denrsboth[i[0]+'-'+i[1]]=[len(bothDE1.index),len(bothDE2.index)]\n",
    "    bothDE1.to_csv(results_out_cell+'DE-wilcoxon-logFC'+myfcstr+'-padj'+mypvalstr+'-UP-'+mylevel+'-'+mysubset.replace(\" \", \"_\")+'-allANDpairwise-'+i[0]+'-'+i[1]+'.1.csv')\n",
    "    bothDE2.to_csv(results_out_cell+'DE-wilcoxon-logFC'+myfcstr+'-padj'+mypvalstr+'-UP-'+mylevel+'-'+mysubset.replace(\" \", \"_\")+'-allANDpairwise-'+i[0]+'-'+i[1]+'.2.csv')\n",
    "denrsboth=pd.DataFrame(denrsboth)\n",
    "denrsboth.index=['DE1','DE2']"
   ]
  },
  {
   "cell_type": "code",
   "execution_count": null,
   "metadata": {},
   "outputs": [],
   "source": [
    "#DElist['C_24_Tumor-T_24_Tumor']['T_24_Tumor']"
   ]
  },
  {
   "cell_type": "code",
   "execution_count": null,
   "metadata": {},
   "outputs": [],
   "source": [
    "plt.rcParams[\"figure.figsize\"] = (4,4)\n",
    "ax=denrsboth.transpose().plot.bar()\n",
    "ax.set_ylabel(\"Nr. pairwise DE genes\")"
   ]
  },
  {
   "cell_type": "markdown",
   "metadata": {},
   "source": [
    "### Gene set enrichment analysis "
   ]
  },
  {
   "cell_type": "code",
   "execution_count": null,
   "metadata": {},
   "outputs": [],
   "source": [
    "import gseapy\n",
    "#gseapy.get_library_name()"
   ]
  },
  {
   "cell_type": "code",
   "execution_count": null,
   "metadata": {},
   "outputs": [],
   "source": [
    "dbs=['KEGG_2021_Human','KEGG_2019_Mouse','GO_Biological_Process_2021','Reactome_2022','Human_Gene_Atlas',\n",
    "     'WikiPathways_2019_Mouse','NCI-Nature_2016',\n",
    "     'ChEA_2022','CellMarker_Augmented_2021','Azimuth_Cell_Types_2021',\n",
    "     'COVID-19_Related_Gene_Sets_2021','MSigDB_Hallmark_2020']\n"
   ]
  },
  {
   "cell_type": "code",
   "execution_count": null,
   "metadata": {},
   "outputs": [],
   "source": [
    "cdata.raw.var['MeanExpr']=cdata.raw.X.mean(axis=0).tolist()[0]"
   ]
  },
  {
   "cell_type": "code",
   "execution_count": null,
   "metadata": {},
   "outputs": [],
   "source": [
    "for i in mypairs:\n",
    "    print(i[0]+' vs. '+i[1])\n",
    "    DElist[i[0]+'-'+i[1]][i[0]].index=DElist[i[0]+'-'+i[1]][i[0]]['Name']\n",
    "    DElist[i[0]+'-'+i[1]][i[1]].index=DElist[i[0]+'-'+i[1]][i[1]]['Name']\n",
    "    #bothDE1=DElist[i[0]+'-'+i[1]][i[0]].loc[list(set(DElist[i[0]+'-'+i[1]][i[0]]['Name']).intersection(set(DEgenes[i[0]]['Name']))),:]\n",
    "    #bothDE2=DElist[i[0]+'-'+i[1]][i[1]].loc[list(set(DElist[i[0]+'-'+i[1]][i[1]]['Name']).intersection(set(DEgenes[i[1]]['Name']))),:]\n",
    "    bothDE1=DElist[i[0]+'-'+i[1]][i[0]].sort_values('Log2FC', ascending=False).iloc[0:200,:]\n",
    "    bothDE2=DElist[i[0]+'-'+i[1]][i[1]].sort_values('Log2FC', ascending=False).iloc[0:200,:]\n",
    "    for j in dbs:\n",
    "        if (len(bothDE1['Name'].tolist())>10):\n",
    "            gseapy.enrichr(gene_list=bothDE1['Name'].tolist(), organism='human', \n",
    "                   gene_sets=j, background=list(cdata.raw.var.loc[cdata.raw.var['MeanExpr']>0.01]['SYMBOL']),\n",
    "                           cutoff=0.05, format='png',outdir=results_out_cell+'enrichr/'+'DE-wilcoxon-logFC'+myfcstr+'-padj'+mypvalstr+'-UP-'+mylevel+'-'+mysubset.replace(\" \", \"_\")+'-pairwiseTop200-'+i[0]+'-'+i[1]+'_1/')\n",
    "        if (len(bothDE2['Name'].tolist())>10):\n",
    "            gseapy.enrichr(gene_list=bothDE2['Name'].tolist(),  organism='human', \n",
    "                   gene_sets=j, background=list(cdata.raw.var.loc[cdata.raw.var['MeanExpr']>0.01]['SYMBOL']),\n",
    "                           cutoff=0.05, format='png',outdir=results_out_cell+'enrichr/'+'DE-wilcoxon-logFC'+myfcstr+'-padj'+mypvalstr+'-UP-'+mylevel+'-'+mysubset.replace(\" \", \"_\")+'-pairwiseTop200-'+i[0]+'-'+i[1]+'_2/')"
   ]
  },
  {
   "cell_type": "markdown",
   "metadata": {},
   "source": [
    "### Write out the fold-change for chosen genes\n"
   ]
  },
  {
   "cell_type": "code",
   "execution_count": null,
   "metadata": {},
   "outputs": [],
   "source": [
    "sc.settings.set_figure_params()"
   ]
  },
  {
   "cell_type": "code",
   "execution_count": null,
   "metadata": {},
   "outputs": [],
   "source": [
    "sc.pl.umap(cdata,color=['dblabel'])"
   ]
  },
  {
   "cell_type": "code",
   "execution_count": null,
   "metadata": {},
   "outputs": [],
   "source": [
    "sc.pl.umap(cdata,color=['leiden']) ### cluster 38 vs. 26 may reflect the distinct cDC1 phenotype"
   ]
  },
  {
   "cell_type": "code",
   "execution_count": null,
   "metadata": {},
   "outputs": [],
   "source": [
    "sc.pl.umap(cdata,color=['treatment_id']) ### cluster 38 vs. 26 may reflect the distinct cDC1 phenotype"
   ]
  },
  {
   "cell_type": "code",
   "execution_count": null,
   "metadata": {},
   "outputs": [],
   "source": [
    "sc.pl.umap(cdata,color=['sample_id']) ### cluster 38 vs. 26 may reflect the distinct cDC1 phenotype"
   ]
  },
  {
   "cell_type": "code",
   "execution_count": null,
   "metadata": {},
   "outputs": [],
   "source": [
    "sc.pl.umap(cdata,color=goiorder, color_map='viridis')"
   ]
  },
  {
   "cell_type": "code",
   "execution_count": null,
   "metadata": {},
   "outputs": [],
   "source": [
    "sc.pl.umap(cdata,color=latei, color_map='viridis')"
   ]
  },
  {
   "cell_type": "code",
   "execution_count": null,
   "metadata": {},
   "outputs": [],
   "source": [
    "! jupyter nbconvert --to html DEAnalysis-IFNGpos.ipynb"
   ]
  },
  {
   "cell_type": "code",
   "execution_count": null,
   "metadata": {},
   "outputs": [],
   "source": []
  }
 ],
 "metadata": {
  "kernelspec": {
   "display_name": "besca_py39_dev",
   "language": "python",
   "name": "besca_py39_dev"
  },
  "language_info": {
   "codemirror_mode": {
    "name": "ipython",
    "version": 3
   },
   "file_extension": ".py",
   "mimetype": "text/x-python",
   "name": "python",
   "nbconvert_exporter": "python",
   "pygments_lexer": "ipython3",
   "version": "3.9.12"
  }
 },
 "nbformat": 4,
 "nbformat_minor": 2
}
